{
 "cells": [
  {
   "cell_type": "code",
   "execution_count": 1,
   "metadata": {},
   "outputs": [],
   "source": [
    "import os\n",
    "import matplotlib as mpl\n",
    "import matplotlib.pyplot as plt\n",
    "#from mpl_toolkits.basemap import Basemap\n",
    "import numpy as np\n",
    "import h5py"
   ]
  },
  {
   "cell_type": "code",
   "execution_count": 3,
   "metadata": {},
   "outputs": [],
   "source": [
    "import geopandas as gpd\n",
    "from geopandas import GeoSeries\n",
    "\n",
    "from shapely.geometry import Polygon"
   ]
  },
  {
   "cell_type": "code",
   "execution_count": 6,
   "metadata": {},
   "outputs": [
    {
     "name": "stdout",
     "output_type": "stream",
     "text": [
      "0.3105074455276701\n"
     ]
    }
   ],
   "source": [
    "FILE_NAME = 'OMI-Aura_L2G-OMCLDO2G_2004m1001_v003-2017m1102t195214.SUB.he5'\n",
    "DATAFIELD_NAME = 'HDFEOS/GRIDS/CloudFractionAndPressure/Data Fields/CloudFraction'\n",
    "with h5py.File(FILE_NAME, mode='r') as f:\n",
    "    # List available datasets.\n",
    "    #print (f.keys())\n",
    "    \n",
    "    dset = f[DATAFIELD_NAME]\n",
    "    data = dset[:]\n",
    "\n",
    "# Handle fill value.\n",
    "    data[data == dset.fillvalue] = np.nan\n",
    "    data = np.ma.masked_where(np.isnan(data), data)\n",
    "\n",
    "# Get attributes needed for the plot.\n",
    "# String attributes actually come in as the bytes type and should\n",
    "# be decoded to UTF-8 (python3).\n",
    "    title = dset.attrs['Title'].decode()\n",
    "    units = dset.attrs['Units'].decode()\n",
    "    \n",
    "    #print(data)\n",
    "    f = np.average(data)\n",
    "    print(f)\n"
   ]
  },
  {
   "cell_type": "code",
   "execution_count": null,
   "metadata": {},
   "outputs": [],
   "source": []
  }
 ],
 "metadata": {
  "kernelspec": {
   "display_name": "Python 3",
   "language": "python",
   "name": "python3"
  },
  "language_info": {
   "codemirror_mode": {
    "name": "ipython",
    "version": 3
   },
   "file_extension": ".py",
   "mimetype": "text/x-python",
   "name": "python",
   "nbconvert_exporter": "python",
   "pygments_lexer": "ipython3",
   "version": "3.7.3"
  }
 },
 "nbformat": 4,
 "nbformat_minor": 2
}
